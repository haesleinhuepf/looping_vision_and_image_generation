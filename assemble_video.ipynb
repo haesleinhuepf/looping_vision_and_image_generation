{
 "cells": [
  {
   "cell_type": "markdown",
   "id": "8f70e64c-d176-44a3-8f6a-895db6f66451",
   "metadata": {
    "tags": []
   },
   "source": [
    "# Combining images\n",
    "This notebook serves combining images verticall from multiple runs to create a video."
   ]
  },
  {
   "cell_type": "code",
   "execution_count": 1,
   "id": "a58946a0-8f8c-46e6-b6ad-3a7c5944c0f0",
   "metadata": {
    "tags": []
   },
   "outputs": [],
   "source": [
    "import os\n",
    "from skimage.io import imread, imsave\n",
    "import imageio\n",
    "import numpy as np"
   ]
  },
  {
   "cell_type": "code",
   "execution_count": 2,
   "id": "4c7d5940-8cb4-41a6-822d-ac4d0fd9bbe0",
   "metadata": {
    "tags": []
   },
   "outputs": [
    {
     "data": {
      "text/plain": [
       "(20, 512, 1556, 3)"
      ]
     },
     "execution_count": 2,
     "metadata": {},
     "output_type": "execute_result"
    }
   ],
   "source": [
    "def load_images_from_folder(folder):\n",
    "    images = []\n",
    "    for filename in os.listdir(folder):\n",
    "        if filename.endswith(\".png\"):\n",
    "            img = imread(os.path.join(folder, filename))\n",
    "            if img is not None:\n",
    "                images.append(img)\n",
    "    return np.array(images)\n",
    "\n",
    "# Load images from data1, data2, and data3 folders\n",
    "images_data1 = load_images_from_folder(\"data_run1\")\n",
    "images_data2 = load_images_from_folder(\"data_run2\")\n",
    "images_data3 = load_images_from_folder(\"data_run3\")\n",
    "\n",
    "# Convert to 4D numpy arrays\n",
    "images_data1_4d = np.expand_dims(images_data1, axis=0) if images_data1.ndim == 3 else images_data1\n",
    "images_data2_4d = np.expand_dims(images_data2, axis=0) if images_data2.ndim == 3 else images_data2\n",
    "images_data3_4d = np.expand_dims(images_data3, axis=0) if images_data3.ndim == 3 else images_data3\n",
    "\n",
    "white_border = np.ones((20, 512, 10, 3)) * 255\n",
    "\n",
    "# Combine images horizontally\n",
    "combined_images_all = np.concatenate((images_data1_4d, white_border, images_data2_4d, white_border, images_data3_4d), axis=2)\n",
    "\n",
    "combined_images_all.shape"
   ]
  },
  {
   "cell_type": "code",
   "execution_count": 3,
   "id": "60759446-e8a6-461e-b1f6-54691e04c16e",
   "metadata": {
    "tags": []
   },
   "outputs": [
    {
     "data": {
      "text/plain": [
       "(20, 256, 778, 3)"
      ]
     },
     "execution_count": 3,
     "metadata": {},
     "output_type": "execute_result"
    }
   ],
   "source": [
    "mini_video = combined_images_all[:,::2, ::2, :]\n",
    "mini_video.shape"
   ]
  },
  {
   "cell_type": "code",
   "execution_count": 4,
   "id": "eddab1ed-e57d-4c63-a298-16ff6151551a",
   "metadata": {
    "tags": []
   },
   "outputs": [],
   "source": [
    "# Example RGB video (substitute this with the actual RGB video you want to save)\n",
    "rgb_video = mini_video\n",
    "\n",
    "def save_rgb_video_as_gif(video, filename):\n",
    "    with imageio.get_writer(filename, mode='I', duration=750, loop=1000) as writer:\n",
    "        for frame in video:\n",
    "            writer.append_data(frame.astype(np.uint8))\n",
    "\n",
    "# Save the RGB video as an animated GIF\n",
    "save_rgb_video_as_gif(rgb_video, \"animated_video.gif\")"
   ]
  },
  {
   "cell_type": "code",
   "execution_count": null,
   "id": "0d6aee9f-4afa-444c-bf93-8f0a741b00f5",
   "metadata": {},
   "outputs": [],
   "source": []
  }
 ],
 "metadata": {
  "kernelspec": {
   "display_name": "Python 3 (ipykernel)",
   "language": "python",
   "name": "python3"
  },
  "language_info": {
   "codemirror_mode": {
    "name": "ipython",
    "version": 3
   },
   "file_extension": ".py",
   "mimetype": "text/x-python",
   "name": "python",
   "nbconvert_exporter": "python",
   "pygments_lexer": "ipython3",
   "version": "3.9.19"
  }
 },
 "nbformat": 4,
 "nbformat_minor": 5
}
